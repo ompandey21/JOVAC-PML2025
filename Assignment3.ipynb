{
 "cells": [
  {
   "cell_type": "code",
   "execution_count": 1,
   "id": "7cc8ce6f",
   "metadata": {},
   "outputs": [
    {
     "name": "stdout",
     "output_type": "stream",
     "text": [
      "A    25\n",
      "B    30\n",
      "C    35\n",
      "D    40\n",
      "E    45\n",
      "dtype: int64\n",
      "A    25\n",
      "B    30\n",
      "C    35\n",
      "dtype: int64\n",
      "Mean: 35.0\n",
      "Median: 35.0\n",
      "Std Dev: 7.905694150420948\n"
     ]
    }
   ],
   "source": [
    "#Working with series\n",
    "import pandas as pd\n",
    "\n",
    "data = [25, 30, 35, 40, 45]\n",
    "s = pd.Series(data, index=['A', 'B', 'C', 'D', 'E'])\n",
    "print(s)\n",
    "\n",
    "print(s.head(3))\n",
    "\n",
    "print(\"Mean:\", s.mean())\n",
    "print(\"Median:\", s.median())\n",
    "print(\"Std Dev:\", s.std())\n"
   ]
  },
  {
   "cell_type": "code",
   "execution_count": 2,
   "id": "cc94805e",
   "metadata": {},
   "outputs": [
    {
     "name": "stdout",
     "output_type": "stream",
     "text": [
      "    Name  Age  Gender  Marks\n",
      "0  Alice   20  Female     85\n",
      "1    Bob   22    Male     78\n",
      "Columns: Index(['Name', 'Age', 'Gender', 'Marks'], dtype='object')\n",
      "Data types:\n",
      " Name      object\n",
      "Age        int64\n",
      "Gender    object\n",
      "Marks      int64\n",
      "dtype: object\n",
      "Summary:\n",
      "              Age      Marks\n",
      "count   5.000000   5.000000\n",
      "mean   20.400000  83.400000\n",
      "std     1.140175   7.334848\n",
      "min    19.000000  74.000000\n",
      "25%    20.000000  78.000000\n",
      "50%    20.000000  85.000000\n",
      "75%    21.000000  88.000000\n",
      "max    22.000000  92.000000\n",
      "    Name  Age  Gender  Marks  Passed\n",
      "0  Alice   20  Female     85    True\n",
      "1    Bob   22    Male     78   False\n",
      "2  Carol   19  Female     92    True\n",
      "3  David   21    Male     74   False\n",
      "4    Eve   20  Female     88    True\n"
     ]
    }
   ],
   "source": [
    "# Creating and inspecting dfs\n",
    "df = pd.DataFrame({\n",
    "    \"Name\": [\"Alice\", \"Bob\", \"Carol\", \"David\", \"Eve\"],\n",
    "    \"Age\": [20, 22, 19, 21, 20],\n",
    "    \"Gender\": [\"Female\", \"Male\", \"Female\", \"Male\", \"Female\"],\n",
    "    \"Marks\": [85, 78, 92, 74, 88]\n",
    "})\n",
    "\n",
    "print(df.head(2))\n",
    "\n",
    "print(\"Columns:\", df.columns)\n",
    "print(\"Data types:\\n\", df.dtypes)\n",
    "print(\"Summary:\\n\", df.describe())\n",
    "\n",
    "df[\"Passed\"] = df[\"Marks\"] >= 80\n",
    "print(df)\n"
   ]
  },
  {
   "cell_type": "code",
   "execution_count": null,
   "id": "7495a7ed",
   "metadata": {},
   "outputs": [],
   "source": [
    "# Data selections and filtering \n",
    "print(df[[\"Name\", \"Marks\"]])\n",
    "\n",
    "print(df[df[\"Marks\"] > 80])\n",
    "\n",
    "print(df[df[\"Marks\"] == df[\"Marks\"].max()])\n"
   ]
  }
 ],
 "metadata": {
  "kernelspec": {
   "display_name": "Python 3",
   "language": "python",
   "name": "python3"
  },
  "language_info": {
   "codemirror_mode": {
    "name": "ipython",
    "version": 3
   },
   "file_extension": ".py",
   "mimetype": "text/x-python",
   "name": "python",
   "nbconvert_exporter": "python",
   "pygments_lexer": "ipython3",
   "version": "3.11.0"
  }
 },
 "nbformat": 4,
 "nbformat_minor": 5
}
